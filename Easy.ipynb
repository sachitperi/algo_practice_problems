{
 "cells": [
  {
   "cell_type": "markdown",
   "metadata": {},
   "source": [
    "2) Reverse an integer\n",
    "Given a 32-bit signed integer, reverse digits of an integer.\n",
    "\n",
    "`Example 1:\n",
    "\n",
    "Input: 123\n",
    "Output: 321\n",
    "Example 2:\n",
    "\n",
    "Input: -123\n",
    "Output: -321\n",
    "Example 3:\n",
    "\n",
    "Input: 120\n",
    "Output: 21`\n",
    "\n",
    "Note:\n",
    "Assume we are dealing with an environment which could only store integers within the 32-bit signed integer range: [−231,  231 − 1]. For the purpose of this problem, assume that your function returns 0 when the reversed integer overflows."
   ]
  },
  {
   "cell_type": "code",
   "execution_count": 34,
   "metadata": {},
   "outputs": [],
   "source": [
    "class Solution(object):\n",
    "    def reverse(self, x):\n",
    "        \"\"\"\n",
    "        :type x: int\n",
    "        :rtype: int\n",
    "        \"\"\"\n",
    "        rev = 0\n",
    "        sign = 1 if x > 0 else -1\n",
    "        while abs(x) > 0:\n",
    "            rev = rev * 10 + abs(x)%10\n",
    "            x = int(abs(x)/10)\n",
    "        if (rev > -2**31) & (rev < (2**31 - 1)):\n",
    "            return sign*rev\n",
    "        else:\n",
    "            return 0"
   ]
  },
  {
   "cell_type": "code",
   "execution_count": 37,
   "metadata": {},
   "outputs": [
    {
     "name": "stdout",
     "output_type": "stream",
     "text": [
      "-321\n",
      "54321\n",
      "0\n"
     ]
    }
   ],
   "source": [
    "a = Solution\n",
    "print(a.reverse(\"reverse\", -123))\n",
    "print(a.reverse(\"reverse\", 12345))\n",
    "print(a.reverse(\"reverse\", 1534236469))"
   ]
  },
  {
   "cell_type": "markdown",
   "metadata": {},
   "source": [
    "3) Determine whether an integer is a palindrome. An integer is a palindrome when it reads the same backward as forward.\n",
    "\n",
    "```\n",
    "Example 1:\n",
    "\n",
    "Input: 121\n",
    "Output: true\n",
    "Example 2:\n",
    "\n",
    "Input: -121\n",
    "Output: false\n",
    "Explanation: From left to right, it reads -121. From right to left, it becomes 121-. Therefore it is not a palindrome.\n",
    "Example 3:\n",
    "\n",
    "Input: 10\n",
    "Output: false\n",
    "Explanation: Reads 01 from right to left. Therefore it is not a palindrome.\n",
    "Follow up:\n",
    "```\n",
    "\n",
    "Coud you solve it without converting the integer to a string?"
   ]
  },
  {
   "cell_type": "code",
   "execution_count": 38,
   "metadata": {},
   "outputs": [],
   "source": [
    "class Solution(object):\n",
    "    def isPalindrome(self, x):\n",
    "        \"\"\"\n",
    "        :type x: int\n",
    "        :rtype: int\n",
    "        \"\"\"\n",
    "        rev = 0\n",
    "        x_copy = x\n",
    "        if x_copy > 0:\n",
    "            while x_copy > 0:\n",
    "                rev = rev * 10 + x_copy%10\n",
    "                x_copy = int(x_copy/10)\n",
    "        return rev == x"
   ]
  },
  {
   "cell_type": "code",
   "execution_count": 40,
   "metadata": {},
   "outputs": [
    {
     "name": "stdout",
     "output_type": "stream",
     "text": [
      "False\n",
      "True\n",
      "True\n"
     ]
    }
   ],
   "source": [
    "a = Solution\n",
    "print(a.isPalindrome(\"palindrome\", -121))\n",
    "print(a.isPalindrome(\"palindrome\", 121))\n",
    "print(a.isPalindrome(\"palindrome\", 3223))"
   ]
  },
  {
   "cell_type": "markdown",
   "metadata": {},
   "source": [
    "4) Roman numerals are represented by seven different symbols: I, V, X, L, C, D and M.\n",
    "\n",
    "```\n",
    "Symbol       Value\n",
    "I             1\n",
    "V             5\n",
    "X             10\n",
    "L             50\n",
    "C             100\n",
    "D             500\n",
    "M             1000\n",
    "```\n",
    "For example, two is written as II in Roman numeral, just two one's added together. Twelve is written as, XII, which is simply X + II. The number twenty seven is written as XXVII, which is XX + V + II.\n",
    "\n",
    "Roman numerals are usually written largest to smallest from left to right. However, the numeral for four is not IIII. Instead, the number four is written as IV. Because the one is before the five we subtract it making four. The same principle applies to the number nine, which is written as IX. There are six instances where subtraction is used:\n",
    "\n",
    "I can be placed before V (5) and X (10) to make 4 and 9. \n",
    "X can be placed before L (50) and C (100) to make 40 and 90. \n",
    "C can be placed before D (500) and M (1000) to make 400 and 900.\n",
    "Given a roman numeral, convert it to an integer. Input is guaranteed to be within the range from 1 to 3999.\n",
    "\n",
    "Example 1:\n",
    "\n",
    "Input: \"III\"\n",
    "Output: 3\n",
    "Example 2:\n",
    "\n",
    "Input: \"IV\"\n",
    "Output: 4\n",
    "Example 3:\n",
    "\n",
    "Input: \"IX\"\n",
    "Output: 9\n",
    "Example 4:\n",
    "\n",
    "Input: \"LVIII\"\n",
    "Output: 58\n",
    "Explanation: L = 50, V= 5, III = 3.\n",
    "Example 5:\n",
    "\n",
    "Input: \"MCMXCIV\"\n",
    "Output: 1994\n",
    "Explanation: M = 1000, CM = 900, XC = 90 and IV = 4."
   ]
  },
  {
   "cell_type": "code",
   "execution_count": 42,
   "metadata": {},
   "outputs": [],
   "source": [
    "class Solution(object):\n",
    "    def romanToInt(self, s):\n",
    "        \"\"\"\n",
    "        :type s: str\n",
    "        :rtype: int\n",
    "        \"\"\"\n",
    "        mapping = {\"I\":1, \n",
    "                  \"V\": 5, \n",
    "                  \"X\": 10, \n",
    "                  \"L\": 50, \n",
    "                  \"C\":100, \n",
    "                  \"D\":500, \n",
    "                  \"M\":1000}\n",
    "        value = 0\n",
    "        for x in range(len(s)):\n",
    "            \n",
    "            value += mapping[char]\n",
    "        \n",
    "        return value"
   ]
  },
  {
   "cell_type": "code",
   "execution_count": 44,
   "metadata": {},
   "outputs": [
    {
     "name": "stdout",
     "output_type": "stream",
     "text": [
      "1\n",
      "2\n",
      "58\n"
     ]
    }
   ],
   "source": [
    "a = Solution\n",
    "print(a.romanToInt(\"romanToInt\", \"I\"))\n",
    "print(a.romanToInt(\"romanToInt\", \"II\"))\n",
    "print(a.romanToInt(\"romanToInt\", \"LVIII\"))"
   ]
  },
  {
   "cell_type": "code",
   "execution_count": null,
   "metadata": {},
   "outputs": [],
   "source": []
  }
 ],
 "metadata": {
  "kernelspec": {
   "display_name": "Python 3",
   "language": "python",
   "name": "python3"
  },
  "language_info": {
   "codemirror_mode": {
    "name": "ipython",
    "version": 3
   },
   "file_extension": ".py",
   "mimetype": "text/x-python",
   "name": "python",
   "nbconvert_exporter": "python",
   "pygments_lexer": "ipython3",
   "version": "3.7.4"
  }
 },
 "nbformat": 4,
 "nbformat_minor": 2
}
